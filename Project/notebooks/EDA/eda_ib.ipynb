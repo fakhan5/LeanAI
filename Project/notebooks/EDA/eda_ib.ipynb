{
 "cells": [
  {
   "cell_type": "code",
   "execution_count": 44,
   "metadata": {},
   "outputs": [
    {
     "name": "stdout",
     "output_type": "stream",
     "text": [
      "   Density  BodyFat  Age  Weight  Height  Neck  Chest  Abdomen    Hip  Thigh  \\\n",
      "0   1.0708     12.3   23  154.25   67.75  36.2   93.1     85.2   94.5   59.0   \n",
      "1   1.0853      6.1   22  173.25   72.25  38.5   93.6     83.0   98.7   58.7   \n",
      "2   1.0414     25.3   22  154.00   66.25  34.0   95.8     87.9   99.2   59.6   \n",
      "3   1.0751     10.4   26  184.75   72.25  37.4  101.8     86.4  101.2   60.1   \n",
      "4   1.0340     28.7   24  184.25   71.25  34.4   97.3    100.0  101.9   63.2   \n",
      "\n",
      "   Knee  Ankle  Biceps  Forearm  Wrist  \n",
      "0  37.3   21.9    32.0     27.4   17.1  \n",
      "1  37.3   23.4    30.5     28.9   18.2  \n",
      "2  38.9   24.0    28.8     25.2   16.6  \n",
      "3  37.3   22.8    32.4     29.4   18.2  \n",
      "4  42.2   24.0    32.2     27.7   17.7  \n"
     ]
    }
   ],
   "source": [
    "import pandas as pd\n",
    "\n",
    "# file path\n",
    "file_path = \"../../data/bodyfat.csv\"\n",
    "\n",
    "# load CSV to DataFrame\n",
    "df = pd.read_csv(file_path)\n",
    "\n",
    "# Check the first 5 rows of the DataFrame\n",
    "print(df.head())"
   ]
  },
  {
   "cell_type": "code",
   "execution_count": 45,
   "metadata": {},
   "outputs": [
    {
     "name": "stdout",
     "output_type": "stream",
     "text": [
      "    Density   BodyFat       Age    Weight    Height      Neck     Chest  \\\n",
      "0  0.800055 -0.818617 -1.736617 -0.839575 -0.654901 -0.737198 -0.916224   \n",
      "1  1.561952 -1.559469 -1.815970 -0.193078  0.573648  0.208949 -0.856916   \n",
      "2 -0.744758  0.734783 -1.815970 -0.848082 -1.064418 -1.642207 -0.595958   \n",
      "3  1.025997 -1.045652 -1.498561  0.198223  0.573648 -0.243556  0.115746   \n",
      "4 -1.133588  1.141057 -1.657265  0.181210  0.300637 -1.477660 -0.418032   \n",
      "\n",
      "    Abdomen       Hip     Thigh      Knee     Ankle    Biceps   Forearm  \\\n",
      "0 -0.682176 -0.754427 -0.077325 -0.535067 -0.709414 -0.090496 -0.625474   \n",
      "1 -0.886199 -0.168168 -0.134468 -0.535067  0.175598 -0.586975  0.116847   \n",
      "2 -0.431783 -0.098375  0.036962  0.128337  0.529602 -1.149652 -1.714210   \n",
      "3 -0.570890  0.180797  0.132201 -0.535067 -0.178407  0.041899  0.364287   \n",
      "4  0.690345  0.278507  0.722682  1.496607  0.529602 -0.024299 -0.477010   \n",
      "\n",
      "      Wrist  \n",
      "0 -1.210133  \n",
      "1 -0.031879  \n",
      "2 -1.745703  \n",
      "3 -0.031879  \n",
      "4 -0.567449  \n"
     ]
    }
   ],
   "source": [
    "# stanrdize the data\n",
    "df = (df - df.mean()) / df.std()\n",
    "\n",
    "# Check the first 5 rows of the DataFrame\n",
    "print(df.head())"
   ]
  },
  {
   "cell_type": "code",
   "execution_count": 46,
   "metadata": {},
   "outputs": [
    {
     "name": "stdout",
     "output_type": "stream",
     "text": [
      "    Density       Age    Weight    Height      Neck     Chest   Abdomen  \\\n",
      "0  0.800055 -1.736617 -0.839575 -0.654901 -0.737198 -0.916224 -0.682176   \n",
      "1  1.561952 -1.815970 -0.193078  0.573648  0.208949 -0.856916 -0.886199   \n",
      "2 -0.744758 -1.815970 -0.848082 -1.064418 -1.642207 -0.595958 -0.431783   \n",
      "3  1.025997 -1.498561  0.198223  0.573648 -0.243556  0.115746 -0.570890   \n",
      "4 -1.133588 -1.657265  0.181210  0.300637 -1.477660 -0.418032  0.690345   \n",
      "\n",
      "        Hip     Thigh      Knee     Ankle    Biceps   Forearm     Wrist  \n",
      "0 -0.754427 -0.077325 -0.535067 -0.709414 -0.090496 -0.625474 -1.210133  \n",
      "1 -0.168168 -0.134468 -0.535067  0.175598 -0.586975  0.116847 -0.031879  \n",
      "2 -0.098375  0.036962  0.128337  0.529602 -1.149652 -1.714210 -1.745703  \n",
      "3  0.180797  0.132201 -0.535067 -0.178407  0.041899  0.364287 -0.031879  \n",
      "4  0.278507  0.722682  1.496607  0.529602 -0.024299 -0.477010 -0.567449  \n",
      "0   -0.818617\n",
      "1   -1.559469\n",
      "2    0.734783\n",
      "3   -1.045652\n",
      "4    1.141057\n",
      "Name: BodyFat, dtype: float64\n"
     ]
    }
   ],
   "source": [
    "# create x_train and y_train\n",
    "x_train = df.drop(columns=['BodyFat'])\n",
    "y_train = df['BodyFat']\n",
    "\n",
    "\n",
    "# Check the first 5 rows of the DataFrame\n",
    "print(x_train.head())\n",
    "print(y_train.head())"
   ]
  },
  {
   "cell_type": "code",
   "execution_count": 47,
   "metadata": {},
   "outputs": [
    {
     "name": "stdout",
     "output_type": "stream",
     "text": [
      "[-9.35200003e-01  1.89540965e-02  3.53079785e-02 -3.49303427e-03\n",
      " -8.26571729e-03  2.69778905e-02  2.39207520e-02  1.64070828e-02\n",
      " -1.05130041e-02 -1.33692450e-03 -1.73517017e-02 -1.98743891e-02\n",
      "  8.17656421e-03  8.19373367e-04]\n",
      "5.155261641838396e-15\n"
     ]
    }
   ],
   "source": [
    "# train the model\n",
    "from sklearn.linear_model import LinearRegression\n",
    "\n",
    "model = LinearRegression()\n",
    "model.fit(x_train, y_train)\n",
    "\n",
    "# print the model coefficients\n",
    "print(model.coef_)\n",
    "print(model.intercept_)\n"
   ]
  },
  {
   "cell_type": "code",
   "execution_count": 48,
   "metadata": {},
   "outputs": [
    {
     "name": "stdout",
     "output_type": "stream",
     "text": [
      "[-0.84627324]\n",
      "-0.818617057368312\n"
     ]
    },
    {
     "name": "stderr",
     "output_type": "stream",
     "text": [
      "c:\\Users\\bax\\miniconda3\\envs\\igor_dsi\\lib\\site-packages\\sklearn\\base.py:493: UserWarning: X does not have valid feature names, but LinearRegression was fitted with feature names\n",
      "  warnings.warn(\n"
     ]
    }
   ],
   "source": [
    "# predict the body fat  \n",
    "x_new = x_train.loc[0].values.reshape(1, -1)\n",
    "y_new = model.predict(x_new)\n",
    "print(y_new)\n",
    "print(y_train[0])\n"
   ]
  },
  {
   "cell_type": "code",
   "execution_count": 49,
   "metadata": {},
   "outputs": [
    {
     "name": "stdout",
     "output_type": "stream",
     "text": [
      "0.02180603587449379\n"
     ]
    }
   ],
   "source": [
    "# evaluate the model\n",
    "from sklearn.metrics import mean_squared_error\n",
    "\n",
    "y_pred = model.predict(x_train)\n",
    "mse = mean_squared_error(y_train, y_pred)\n",
    "print(mse)"
   ]
  },
  {
   "cell_type": "code",
   "execution_count": 50,
   "metadata": {},
   "outputs": [
    {
     "data": {
      "image/png": "[encoded data removed]",
      "text/plain": [
       "<Figure size 640x480 with 1 Axes>"
      ]
     },
     "metadata": {},
     "output_type": "display_data"
    }
   ],
   "source": [
    "# plot the model\n",
    "import matplotlib.pyplot as plt\n",
    "\n",
    "plt.scatter(y_train, y_pred)\n",
    "plt.xlabel('Actual Labels')\n",
    "plt.ylabel('Predicted Labels')\n",
    "plt.title('Body Fat Prediction')\n",
    "plt.show()"
   ]
  },
  {
   "cell_type": "code",
   "execution_count": null,
   "metadata": {},
   "outputs": [
    {
     "name": "stdout",
     "output_type": "stream",
     "text": [
      "[-9.35200003e-01  1.89540965e-02  3.53079785e-02 -3.49303427e-03\n",
      " -8.26571729e-03  2.69778905e-02  2.39207520e-02  1.64070828e-02\n",
      " -1.05130041e-02 -1.33692450e-03 -1.73517017e-02 -1.98743891e-02\n",
      "  8.17656421e-03  8.19373367e-04]\n",
      "5.155261641838396e-15\n",
      "[-0.84627324]\n"
     ]
    },
    {
     "name": "stderr",
     "output_type": "stream",
     "text": [
      "c:\\Users\\bax\\miniconda3\\envs\\igor_dsi\\lib\\site-packages\\sklearn\\feature_selection\\_univariate_selection.py:776: UserWarning: k=100 is greater than n_features=14. All the features will be returned.\n",
      "  warnings.warn(\n",
      "c:\\Users\\bax\\miniconda3\\envs\\igor_dsi\\lib\\site-packages\\sklearn\\base.py:493: UserWarning: X does not have valid feature names, but SelectKBest was fitted with feature names\n",
      "  warnings.warn(\n"
     ]
    }
   ],
   "source": [
    "# feature selection\n",
    "from sklearn.feature_selection import SelectKBest\n",
    "from sklearn.feature_selection import f_regression\n",
    "\n",
    "selector = SelectKBest(score_func=f_regression, k=100)\n",
    "x_new = selector.fit_transform(x_train, y_train)\n",
    "\n",
    "# print(x_new)\n",
    "\n",
    "# train the model\n",
    "model = LinearRegression() \n",
    "\n",
    "model.fit(x_new, y_train)\n",
    "\n",
    "# print the model coefficients\n",
    "print(model.coef_)\n",
    "print(model.intercept_)\n",
    "\n",
    "# predict the body fat\n",
    "x_new = x_train.loc[0].values.reshape(1, -1)\n",
    "x_new = selector.transform(x_new)\n",
    "y_new = model.predict(x_new)\n",
    "\n",
    "print(y_new)\n"
   ]
  },
  {
   "cell_type": "code",
   "execution_count": 60,
   "metadata": {},
   "outputs": [
    {
     "name": "stdout",
     "output_type": "stream",
     "text": [
      "0.02180603587449379\n"
     ]
    }
   ],
   "source": [
    "# evaluate the model\n",
    "y_pred = model.predict(selector.transform(x_train))\n",
    "mse = mean_squared_error(y_train, y_pred)\n",
    "print(mse)"
   ]
  },
  {
   "cell_type": "code",
   "execution_count": 61,
   "metadata": {},
   "outputs": [
    {
     "data": {
      "image/png": "[encoded data removed]",
      "text/plain": [
       "<Figure size 640x480 with 1 Axes>"
      ]
     },
     "metadata": {},
     "output_type": "display_data"
    }
   ],
   "source": [
    "\n",
    "# plot the model\n",
    "\n",
    "plt.scatter(y_train, y_pred)\n",
    "plt.xlabel('Actual Labels')\n",
    "plt.ylabel('Predicted Labels')\n",
    "plt.title('Body Fat Prediction')\n",
    "plt.show()"
   ]
  }
 ],
 "metadata": {
  "kernelspec": {
   "display_name": "igor_dsi",
   "language": "python",
   "name": "python3"
  },
  "language_info": {
   "codemirror_mode": {
    "name": "ipython",
    "version": 3
   },
   "file_extension": ".py",
   "mimetype": "text/x-python",
   "name": "python",
   "nbconvert_exporter": "python",
   "pygments_lexer": "ipython3",
   "version": "3.9.15"
  }
 },
 "nbformat": 4,
 "nbformat_minor": 2
}
